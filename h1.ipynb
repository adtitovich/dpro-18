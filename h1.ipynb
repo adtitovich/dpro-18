{
  "nbformat": 4,
  "nbformat_minor": 0,
  "metadata": {
    "colab": {
      "provenance": [],
      "authorship_tag": "ABX9TyN56BzcJ5s53MG5/jSAGOQh",
      "include_colab_link": true
    },
    "kernelspec": {
      "name": "python3",
      "display_name": "Python 3"
    },
    "language_info": {
      "name": "python"
    }
  },
  "cells": [
    {
      "cell_type": "markdown",
      "metadata": {
        "id": "view-in-github",
        "colab_type": "text"
      },
      "source": [
        "<a href=\"https://colab.research.google.com/github/adtitovich/dpro-18/blob/main/h1.ipynb\" target=\"_parent\"><img src=\"https://colab.research.google.com/assets/colab-badge.svg\" alt=\"Open In Colab\"/></a>"
      ]
    },
    {
      "cell_type": "markdown",
      "source": [
        "***Домашнее задание к лекции «Работа с Apache Spark»***"
      ],
      "metadata": {
        "id": "HOjpXuPx3znu"
      }
    },
    {
      "cell_type": "markdown",
      "source": [
        "В файле movies.csv лежит база фильмов. Название фильма записано во втором столбце title.\n",
        "Разбейте названия фильмов на отдельные слова и посчитайте какое слово встречается чаще всего.\n"
      ],
      "metadata": {
        "id": "xbA6B---3yG0"
      }
    },
    {
      "cell_type": "code",
      "source": [
        "data = sc.textFile('movies.csv')\n",
        "\n",
        "# разбиваем на списки\n",
        "data_map = data.map(lambda x: x.split(','))\n",
        "\n",
        "# заголовок\n",
        "header = data_map.first()\n",
        "\n",
        "# заголовок отбрасываем\n",
        "data_map = data_map.filter(lambda x: x != header)\n",
        "\n",
        "# названия фильмов переводим в нижний регистр, разбиваем на слова, каждое слово конвертируем в ключ-значение (ключ - слово, значение=1), объединяем значения по ключу и считаем сумму значений, сортируем \n",
        "data_map.flatMap(lambda x: x[1].lower().split(' ')).map(lambda x: (x,1)).reduceByKey(lambda a,b: a+b).sortBy(lambda x: x[1], False).take(5)"
      ],
      "metadata": {
        "id": "Q8TivUif4OWg"
      },
      "execution_count": null,
      "outputs": []
    }
  ]
}